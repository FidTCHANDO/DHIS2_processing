{
 "cells": [
  {
   "cell_type": "code",
   "execution_count": 1,
   "metadata": {},
   "outputs": [],
   "source": [
    "from dhis2_mod import *"
   ]
  },
  {
   "cell_type": "code",
   "execution_count": 5,
   "metadata": {},
   "outputs": [],
   "source": [
    "x = 2\n",
    "tracker_df_2023 = dhis2(paths=[\"./data/hospit_T123_202\"+str(x)+\".json\", \"./data/consult_T123_202\"+str(x)+\".json\"], file_type=\"json\")"
   ]
  },
  {
   "cell_type": "code",
   "execution_count": 3,
   "metadata": {},
   "outputs": [],
   "source": [
    "da2 = tracker_df_2023.data_frame.drop(tracker_df_2023.data_frame.index[tracker_df_2023.data_frame[\"Tranche_d\\'Age_Tracker\"] == \"\"])\n"
   ]
  },
  {
   "cell_type": "code",
   "execution_count": 6,
   "metadata": {},
   "outputs": [],
   "source": [
    "df = tracker_df_2023.get_all_records(True, True, False)\n",
    "df_death = tracker_df_2023.get_all_records(True, True, True)"
   ]
  },
  {
   "cell_type": "code",
   "execution_count": 7,
   "metadata": {},
   "outputs": [],
   "source": [
    "df.to_excel(excel_writer=\"exported/hop2022.xlsx\")\n",
    "df_death.to_excel(excel_writer=\"exported/hop2022death.xlsx\")"
   ]
  },
  {
   "cell_type": "code",
   "execution_count": 10,
   "metadata": {},
   "outputs": [],
   "source": [
    "for x in [2,3,4]:\n",
    "    tracker_df = dhis2(paths=[\"./data/hospit_T123_202\"+str(x)+\".json\", \"./data/consult_T123_202\"+str(x)+\".json\"], file_type=\"json\")\n",
    "    tracker_df.data_frame.to_excel(\"tracker202\"+str(x)+\".xlsx\", index=False)"
   ]
  }
 ],
 "metadata": {
  "kernelspec": {
   "display_name": "base",
   "language": "python",
   "name": "python3"
  },
  "language_info": {
   "codemirror_mode": {
    "name": "ipython",
    "version": 3
   },
   "file_extension": ".py",
   "mimetype": "text/x-python",
   "name": "python",
   "nbconvert_exporter": "python",
   "pygments_lexer": "ipython3",
   "version": "3.9.13"
  }
 },
 "nbformat": 4,
 "nbformat_minor": 2
}
